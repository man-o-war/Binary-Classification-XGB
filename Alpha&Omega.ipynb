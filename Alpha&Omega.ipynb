{
 "cells": [
  {
   "cell_type": "markdown",
   "id": "a36af395",
   "metadata": {},
   "source": [
    "# Binary Classification"
   ]
  },
  {
   "cell_type": "markdown",
   "id": "170dbc37",
   "metadata": {},
   "source": [
    "### Doing necessary library imports"
   ]
  },
  {
   "cell_type": "code",
   "execution_count": 1,
   "id": "eb206e40",
   "metadata": {},
   "outputs": [],
   "source": [
    "import numpy as np\n",
    "import pandas as pd\n",
    "import seaborn as sns\n",
    "import matplotlib.pyplot as plt\n",
    "\n",
    "%matplotlib inline"
   ]
  },
  {
   "cell_type": "markdown",
   "id": "eb223f32",
   "metadata": {},
   "source": [
    "### Importing the dataset"
   ]
  },
  {
   "cell_type": "code",
   "execution_count": 2,
   "id": "799a2b17",
   "metadata": {},
   "outputs": [],
   "source": [
    "training_data = pd.read_csv('./Data/training_set.csv', index_col=0)\n",
    "testing_data = pd.read_csv('./Data/test_set.csv', index_col=0)"
   ]
  },
  {
   "cell_type": "markdown",
   "id": "8beda783",
   "metadata": {},
   "source": [
    "### Getting a sense of the dataset"
   ]
  },
  {
   "cell_type": "markdown",
   "id": "ddb85f2d",
   "metadata": {},
   "source": [
    "#### Looking at the training data top 5 and bottom 5 values to get a sense of them"
   ]
  },
  {
   "cell_type": "code",
   "execution_count": 3,
   "id": "b87607a8",
   "metadata": {},
   "outputs": [
    {
     "data": {
      "text/html": [
       "<div>\n",
       "<style scoped>\n",
       "    .dataframe tbody tr th:only-of-type {\n",
       "        vertical-align: middle;\n",
       "    }\n",
       "\n",
       "    .dataframe tbody tr th {\n",
       "        vertical-align: top;\n",
       "    }\n",
       "\n",
       "    .dataframe thead th {\n",
       "        text-align: right;\n",
       "    }\n",
       "</style>\n",
       "<table border=\"1\" class=\"dataframe\">\n",
       "  <thead>\n",
       "    <tr style=\"text-align: right;\">\n",
       "      <th></th>\n",
       "      <th>X1</th>\n",
       "      <th>X2</th>\n",
       "      <th>X3</th>\n",
       "      <th>X4</th>\n",
       "      <th>X5</th>\n",
       "      <th>X6</th>\n",
       "      <th>X7</th>\n",
       "      <th>X8</th>\n",
       "      <th>X9</th>\n",
       "      <th>X10</th>\n",
       "      <th>...</th>\n",
       "      <th>X49</th>\n",
       "      <th>X50</th>\n",
       "      <th>X51</th>\n",
       "      <th>X52</th>\n",
       "      <th>X53</th>\n",
       "      <th>X54</th>\n",
       "      <th>X55</th>\n",
       "      <th>X56</th>\n",
       "      <th>X57</th>\n",
       "      <th>Y</th>\n",
       "    </tr>\n",
       "  </thead>\n",
       "  <tbody>\n",
       "    <tr>\n",
       "      <th>0</th>\n",
       "      <td>0.00</td>\n",
       "      <td>0.00</td>\n",
       "      <td>4.34</td>\n",
       "      <td>0.00</td>\n",
       "      <td>0.00</td>\n",
       "      <td>0.00</td>\n",
       "      <td>0.00</td>\n",
       "      <td>0.00</td>\n",
       "      <td>0.0</td>\n",
       "      <td>0.00</td>\n",
       "      <td>...</td>\n",
       "      <td>0.0</td>\n",
       "      <td>0.000</td>\n",
       "      <td>0.0</td>\n",
       "      <td>1.342</td>\n",
       "      <td>0.000</td>\n",
       "      <td>0.000</td>\n",
       "      <td>1.200</td>\n",
       "      <td>2</td>\n",
       "      <td>12</td>\n",
       "      <td>0</td>\n",
       "    </tr>\n",
       "    <tr>\n",
       "      <th>1</th>\n",
       "      <td>0.00</td>\n",
       "      <td>0.56</td>\n",
       "      <td>0.56</td>\n",
       "      <td>0.00</td>\n",
       "      <td>1.12</td>\n",
       "      <td>0.56</td>\n",
       "      <td>2.25</td>\n",
       "      <td>0.00</td>\n",
       "      <td>0.0</td>\n",
       "      <td>0.56</td>\n",
       "      <td>...</td>\n",
       "      <td>0.0</td>\n",
       "      <td>0.083</td>\n",
       "      <td>0.0</td>\n",
       "      <td>0.503</td>\n",
       "      <td>0.000</td>\n",
       "      <td>0.083</td>\n",
       "      <td>16.304</td>\n",
       "      <td>148</td>\n",
       "      <td>375</td>\n",
       "      <td>1</td>\n",
       "    </tr>\n",
       "    <tr>\n",
       "      <th>2</th>\n",
       "      <td>0.00</td>\n",
       "      <td>0.00</td>\n",
       "      <td>0.00</td>\n",
       "      <td>0.00</td>\n",
       "      <td>0.00</td>\n",
       "      <td>0.00</td>\n",
       "      <td>0.00</td>\n",
       "      <td>0.00</td>\n",
       "      <td>0.0</td>\n",
       "      <td>0.00</td>\n",
       "      <td>...</td>\n",
       "      <td>0.0</td>\n",
       "      <td>0.000</td>\n",
       "      <td>0.0</td>\n",
       "      <td>0.000</td>\n",
       "      <td>0.000</td>\n",
       "      <td>0.000</td>\n",
       "      <td>1.000</td>\n",
       "      <td>1</td>\n",
       "      <td>5</td>\n",
       "      <td>0</td>\n",
       "    </tr>\n",
       "    <tr>\n",
       "      <th>3</th>\n",
       "      <td>0.64</td>\n",
       "      <td>0.00</td>\n",
       "      <td>0.64</td>\n",
       "      <td>0.00</td>\n",
       "      <td>1.93</td>\n",
       "      <td>0.00</td>\n",
       "      <td>0.00</td>\n",
       "      <td>0.00</td>\n",
       "      <td>0.0</td>\n",
       "      <td>0.00</td>\n",
       "      <td>...</td>\n",
       "      <td>0.0</td>\n",
       "      <td>0.000</td>\n",
       "      <td>0.0</td>\n",
       "      <td>0.462</td>\n",
       "      <td>0.370</td>\n",
       "      <td>0.000</td>\n",
       "      <td>2.440</td>\n",
       "      <td>22</td>\n",
       "      <td>122</td>\n",
       "      <td>1</td>\n",
       "    </tr>\n",
       "    <tr>\n",
       "      <th>4</th>\n",
       "      <td>0.58</td>\n",
       "      <td>0.00</td>\n",
       "      <td>0.00</td>\n",
       "      <td>35.46</td>\n",
       "      <td>0.58</td>\n",
       "      <td>0.00</td>\n",
       "      <td>0.58</td>\n",
       "      <td>0.58</td>\n",
       "      <td>0.0</td>\n",
       "      <td>0.00</td>\n",
       "      <td>...</td>\n",
       "      <td>0.0</td>\n",
       "      <td>0.000</td>\n",
       "      <td>0.0</td>\n",
       "      <td>0.239</td>\n",
       "      <td>0.239</td>\n",
       "      <td>0.000</td>\n",
       "      <td>3.338</td>\n",
       "      <td>123</td>\n",
       "      <td>207</td>\n",
       "      <td>1</td>\n",
       "    </tr>\n",
       "  </tbody>\n",
       "</table>\n",
       "<p>5 rows × 58 columns</p>\n",
       "</div>"
      ],
      "text/plain": [
       "     X1    X2    X3     X4    X5    X6    X7    X8   X9   X10  ...  X49  \\\n",
       "0  0.00  0.00  4.34   0.00  0.00  0.00  0.00  0.00  0.0  0.00  ...  0.0   \n",
       "1  0.00  0.56  0.56   0.00  1.12  0.56  2.25  0.00  0.0  0.56  ...  0.0   \n",
       "2  0.00  0.00  0.00   0.00  0.00  0.00  0.00  0.00  0.0  0.00  ...  0.0   \n",
       "3  0.64  0.00  0.64   0.00  1.93  0.00  0.00  0.00  0.0  0.00  ...  0.0   \n",
       "4  0.58  0.00  0.00  35.46  0.58  0.00  0.58  0.58  0.0  0.00  ...  0.0   \n",
       "\n",
       "     X50  X51    X52    X53    X54     X55  X56  X57  Y  \n",
       "0  0.000  0.0  1.342  0.000  0.000   1.200    2   12  0  \n",
       "1  0.083  0.0  0.503  0.000  0.083  16.304  148  375  1  \n",
       "2  0.000  0.0  0.000  0.000  0.000   1.000    1    5  0  \n",
       "3  0.000  0.0  0.462  0.370  0.000   2.440   22  122  1  \n",
       "4  0.000  0.0  0.239  0.239  0.000   3.338  123  207  1  \n",
       "\n",
       "[5 rows x 58 columns]"
      ]
     },
     "execution_count": 3,
     "metadata": {},
     "output_type": "execute_result"
    }
   ],
   "source": [
    "training_data.head()"
   ]
  },
  {
   "cell_type": "code",
   "execution_count": 4,
   "id": "c0058244",
   "metadata": {},
   "outputs": [
    {
     "data": {
      "text/html": [
       "<div>\n",
       "<style scoped>\n",
       "    .dataframe tbody tr th:only-of-type {\n",
       "        vertical-align: middle;\n",
       "    }\n",
       "\n",
       "    .dataframe tbody tr th {\n",
       "        vertical-align: top;\n",
       "    }\n",
       "\n",
       "    .dataframe thead th {\n",
       "        text-align: right;\n",
       "    }\n",
       "</style>\n",
       "<table border=\"1\" class=\"dataframe\">\n",
       "  <thead>\n",
       "    <tr style=\"text-align: right;\">\n",
       "      <th></th>\n",
       "      <th>X1</th>\n",
       "      <th>X2</th>\n",
       "      <th>X3</th>\n",
       "      <th>X4</th>\n",
       "      <th>X5</th>\n",
       "      <th>X6</th>\n",
       "      <th>X7</th>\n",
       "      <th>X8</th>\n",
       "      <th>X9</th>\n",
       "      <th>X10</th>\n",
       "      <th>...</th>\n",
       "      <th>X49</th>\n",
       "      <th>X50</th>\n",
       "      <th>X51</th>\n",
       "      <th>X52</th>\n",
       "      <th>X53</th>\n",
       "      <th>X54</th>\n",
       "      <th>X55</th>\n",
       "      <th>X56</th>\n",
       "      <th>X57</th>\n",
       "      <th>Y</th>\n",
       "    </tr>\n",
       "  </thead>\n",
       "  <tbody>\n",
       "    <tr>\n",
       "      <th>3905</th>\n",
       "      <td>0.00</td>\n",
       "      <td>0.0</td>\n",
       "      <td>0.00</td>\n",
       "      <td>0.0</td>\n",
       "      <td>0.0</td>\n",
       "      <td>0.00</td>\n",
       "      <td>0.0</td>\n",
       "      <td>0.00</td>\n",
       "      <td>0.00</td>\n",
       "      <td>0.0</td>\n",
       "      <td>...</td>\n",
       "      <td>0.0</td>\n",
       "      <td>0.000</td>\n",
       "      <td>0.0</td>\n",
       "      <td>0.000</td>\n",
       "      <td>0.000</td>\n",
       "      <td>0.000</td>\n",
       "      <td>1.714</td>\n",
       "      <td>4</td>\n",
       "      <td>12</td>\n",
       "      <td>0</td>\n",
       "    </tr>\n",
       "    <tr>\n",
       "      <th>3906</th>\n",
       "      <td>0.00</td>\n",
       "      <td>0.0</td>\n",
       "      <td>0.00</td>\n",
       "      <td>0.0</td>\n",
       "      <td>0.0</td>\n",
       "      <td>0.00</td>\n",
       "      <td>0.0</td>\n",
       "      <td>0.00</td>\n",
       "      <td>0.00</td>\n",
       "      <td>0.0</td>\n",
       "      <td>...</td>\n",
       "      <td>0.0</td>\n",
       "      <td>0.000</td>\n",
       "      <td>0.0</td>\n",
       "      <td>0.000</td>\n",
       "      <td>0.000</td>\n",
       "      <td>0.000</td>\n",
       "      <td>2.000</td>\n",
       "      <td>3</td>\n",
       "      <td>4</td>\n",
       "      <td>0</td>\n",
       "    </tr>\n",
       "    <tr>\n",
       "      <th>3907</th>\n",
       "      <td>0.12</td>\n",
       "      <td>0.0</td>\n",
       "      <td>0.12</td>\n",
       "      <td>0.0</td>\n",
       "      <td>0.0</td>\n",
       "      <td>0.25</td>\n",
       "      <td>0.0</td>\n",
       "      <td>0.00</td>\n",
       "      <td>0.00</td>\n",
       "      <td>0.0</td>\n",
       "      <td>...</td>\n",
       "      <td>0.0</td>\n",
       "      <td>0.093</td>\n",
       "      <td>0.0</td>\n",
       "      <td>0.023</td>\n",
       "      <td>0.000</td>\n",
       "      <td>0.000</td>\n",
       "      <td>1.247</td>\n",
       "      <td>5</td>\n",
       "      <td>131</td>\n",
       "      <td>0</td>\n",
       "    </tr>\n",
       "    <tr>\n",
       "      <th>3908</th>\n",
       "      <td>0.00</td>\n",
       "      <td>0.0</td>\n",
       "      <td>0.00</td>\n",
       "      <td>0.0</td>\n",
       "      <td>0.0</td>\n",
       "      <td>0.00</td>\n",
       "      <td>0.0</td>\n",
       "      <td>3.12</td>\n",
       "      <td>0.00</td>\n",
       "      <td>0.0</td>\n",
       "      <td>...</td>\n",
       "      <td>0.0</td>\n",
       "      <td>0.198</td>\n",
       "      <td>0.0</td>\n",
       "      <td>0.198</td>\n",
       "      <td>0.198</td>\n",
       "      <td>0.000</td>\n",
       "      <td>3.857</td>\n",
       "      <td>25</td>\n",
       "      <td>81</td>\n",
       "      <td>1</td>\n",
       "    </tr>\n",
       "    <tr>\n",
       "      <th>3909</th>\n",
       "      <td>0.96</td>\n",
       "      <td>0.0</td>\n",
       "      <td>0.48</td>\n",
       "      <td>0.0</td>\n",
       "      <td>0.0</td>\n",
       "      <td>0.96</td>\n",
       "      <td>0.0</td>\n",
       "      <td>0.00</td>\n",
       "      <td>0.48</td>\n",
       "      <td>0.0</td>\n",
       "      <td>...</td>\n",
       "      <td>0.0</td>\n",
       "      <td>0.818</td>\n",
       "      <td>0.0</td>\n",
       "      <td>0.175</td>\n",
       "      <td>0.467</td>\n",
       "      <td>0.116</td>\n",
       "      <td>9.560</td>\n",
       "      <td>259</td>\n",
       "      <td>717</td>\n",
       "      <td>1</td>\n",
       "    </tr>\n",
       "  </tbody>\n",
       "</table>\n",
       "<p>5 rows × 58 columns</p>\n",
       "</div>"
      ],
      "text/plain": [
       "        X1   X2    X3   X4   X5    X6   X7    X8    X9  X10  ...  X49    X50  \\\n",
       "3905  0.00  0.0  0.00  0.0  0.0  0.00  0.0  0.00  0.00  0.0  ...  0.0  0.000   \n",
       "3906  0.00  0.0  0.00  0.0  0.0  0.00  0.0  0.00  0.00  0.0  ...  0.0  0.000   \n",
       "3907  0.12  0.0  0.12  0.0  0.0  0.25  0.0  0.00  0.00  0.0  ...  0.0  0.093   \n",
       "3908  0.00  0.0  0.00  0.0  0.0  0.00  0.0  3.12  0.00  0.0  ...  0.0  0.198   \n",
       "3909  0.96  0.0  0.48  0.0  0.0  0.96  0.0  0.00  0.48  0.0  ...  0.0  0.818   \n",
       "\n",
       "      X51    X52    X53    X54    X55  X56  X57  Y  \n",
       "3905  0.0  0.000  0.000  0.000  1.714    4   12  0  \n",
       "3906  0.0  0.000  0.000  0.000  2.000    3    4  0  \n",
       "3907  0.0  0.023  0.000  0.000  1.247    5  131  0  \n",
       "3908  0.0  0.198  0.198  0.000  3.857   25   81  1  \n",
       "3909  0.0  0.175  0.467  0.116  9.560  259  717  1  \n",
       "\n",
       "[5 rows x 58 columns]"
      ]
     },
     "execution_count": 4,
     "metadata": {},
     "output_type": "execute_result"
    }
   ],
   "source": [
    "training_data.tail()"
   ]
  },
  {
   "cell_type": "markdown",
   "id": "8a676909",
   "metadata": {},
   "source": [
    "#### Getting a sense of the stats and shape of the data by pandas.DataFrame.describe() and panadas.DataFrame.shape"
   ]
  },
  {
   "cell_type": "code",
   "execution_count": 5,
   "id": "f06b0c06",
   "metadata": {},
   "outputs": [
    {
     "data": {
      "text/html": [
       "<div>\n",
       "<style scoped>\n",
       "    .dataframe tbody tr th:only-of-type {\n",
       "        vertical-align: middle;\n",
       "    }\n",
       "\n",
       "    .dataframe tbody tr th {\n",
       "        vertical-align: top;\n",
       "    }\n",
       "\n",
       "    .dataframe thead th {\n",
       "        text-align: right;\n",
       "    }\n",
       "</style>\n",
       "<table border=\"1\" class=\"dataframe\">\n",
       "  <thead>\n",
       "    <tr style=\"text-align: right;\">\n",
       "      <th></th>\n",
       "      <th>X1</th>\n",
       "      <th>X2</th>\n",
       "      <th>X3</th>\n",
       "      <th>X4</th>\n",
       "      <th>X5</th>\n",
       "      <th>X6</th>\n",
       "      <th>X7</th>\n",
       "      <th>X8</th>\n",
       "      <th>X9</th>\n",
       "      <th>X10</th>\n",
       "      <th>...</th>\n",
       "      <th>X49</th>\n",
       "      <th>X50</th>\n",
       "      <th>X51</th>\n",
       "      <th>X52</th>\n",
       "      <th>X53</th>\n",
       "      <th>X54</th>\n",
       "      <th>X55</th>\n",
       "      <th>X56</th>\n",
       "      <th>X57</th>\n",
       "      <th>Y</th>\n",
       "    </tr>\n",
       "  </thead>\n",
       "  <tbody>\n",
       "    <tr>\n",
       "      <th>count</th>\n",
       "      <td>3910.000000</td>\n",
       "      <td>3910.000000</td>\n",
       "      <td>3910.000000</td>\n",
       "      <td>3910.000000</td>\n",
       "      <td>3910.000000</td>\n",
       "      <td>3910.000000</td>\n",
       "      <td>3910.000000</td>\n",
       "      <td>3910.000000</td>\n",
       "      <td>3910.000000</td>\n",
       "      <td>3910.000000</td>\n",
       "      <td>...</td>\n",
       "      <td>3910.000000</td>\n",
       "      <td>3910.000000</td>\n",
       "      <td>3910.000000</td>\n",
       "      <td>3910.000000</td>\n",
       "      <td>3910.000000</td>\n",
       "      <td>3910.000000</td>\n",
       "      <td>3910.000000</td>\n",
       "      <td>3910.000000</td>\n",
       "      <td>3910.000000</td>\n",
       "      <td>3910.000000</td>\n",
       "    </tr>\n",
       "    <tr>\n",
       "      <th>mean</th>\n",
       "      <td>0.102990</td>\n",
       "      <td>0.206419</td>\n",
       "      <td>0.284419</td>\n",
       "      <td>0.062074</td>\n",
       "      <td>0.311309</td>\n",
       "      <td>0.095974</td>\n",
       "      <td>0.112320</td>\n",
       "      <td>0.106041</td>\n",
       "      <td>0.091146</td>\n",
       "      <td>0.244345</td>\n",
       "      <td>...</td>\n",
       "      <td>0.037493</td>\n",
       "      <td>0.139252</td>\n",
       "      <td>0.015876</td>\n",
       "      <td>0.272971</td>\n",
       "      <td>0.077820</td>\n",
       "      <td>0.043828</td>\n",
       "      <td>5.047150</td>\n",
       "      <td>52.338107</td>\n",
       "      <td>283.059079</td>\n",
       "      <td>0.392327</td>\n",
       "    </tr>\n",
       "    <tr>\n",
       "      <th>std</th>\n",
       "      <td>0.296322</td>\n",
       "      <td>1.253828</td>\n",
       "      <td>0.504352</td>\n",
       "      <td>1.369361</td>\n",
       "      <td>0.656195</td>\n",
       "      <td>0.261455</td>\n",
       "      <td>0.389516</td>\n",
       "      <td>0.398694</td>\n",
       "      <td>0.271417</td>\n",
       "      <td>0.667065</td>\n",
       "      <td>...</td>\n",
       "      <td>0.235054</td>\n",
       "      <td>0.276309</td>\n",
       "      <td>0.083600</td>\n",
       "      <td>0.858634</td>\n",
       "      <td>0.256991</td>\n",
       "      <td>0.452862</td>\n",
       "      <td>31.397035</td>\n",
       "      <td>204.445218</td>\n",
       "      <td>578.339858</td>\n",
       "      <td>0.488331</td>\n",
       "    </tr>\n",
       "    <tr>\n",
       "      <th>min</th>\n",
       "      <td>0.000000</td>\n",
       "      <td>0.000000</td>\n",
       "      <td>0.000000</td>\n",
       "      <td>0.000000</td>\n",
       "      <td>0.000000</td>\n",
       "      <td>0.000000</td>\n",
       "      <td>0.000000</td>\n",
       "      <td>0.000000</td>\n",
       "      <td>0.000000</td>\n",
       "      <td>0.000000</td>\n",
       "      <td>...</td>\n",
       "      <td>0.000000</td>\n",
       "      <td>0.000000</td>\n",
       "      <td>0.000000</td>\n",
       "      <td>0.000000</td>\n",
       "      <td>0.000000</td>\n",
       "      <td>0.000000</td>\n",
       "      <td>1.000000</td>\n",
       "      <td>1.000000</td>\n",
       "      <td>1.000000</td>\n",
       "      <td>0.000000</td>\n",
       "    </tr>\n",
       "    <tr>\n",
       "      <th>25%</th>\n",
       "      <td>0.000000</td>\n",
       "      <td>0.000000</td>\n",
       "      <td>0.000000</td>\n",
       "      <td>0.000000</td>\n",
       "      <td>0.000000</td>\n",
       "      <td>0.000000</td>\n",
       "      <td>0.000000</td>\n",
       "      <td>0.000000</td>\n",
       "      <td>0.000000</td>\n",
       "      <td>0.000000</td>\n",
       "      <td>...</td>\n",
       "      <td>0.000000</td>\n",
       "      <td>0.000000</td>\n",
       "      <td>0.000000</td>\n",
       "      <td>0.000000</td>\n",
       "      <td>0.000000</td>\n",
       "      <td>0.000000</td>\n",
       "      <td>1.580750</td>\n",
       "      <td>6.000000</td>\n",
       "      <td>35.000000</td>\n",
       "      <td>0.000000</td>\n",
       "    </tr>\n",
       "    <tr>\n",
       "      <th>50%</th>\n",
       "      <td>0.000000</td>\n",
       "      <td>0.000000</td>\n",
       "      <td>0.000000</td>\n",
       "      <td>0.000000</td>\n",
       "      <td>0.000000</td>\n",
       "      <td>0.000000</td>\n",
       "      <td>0.000000</td>\n",
       "      <td>0.000000</td>\n",
       "      <td>0.000000</td>\n",
       "      <td>0.000000</td>\n",
       "      <td>...</td>\n",
       "      <td>0.000000</td>\n",
       "      <td>0.066000</td>\n",
       "      <td>0.000000</td>\n",
       "      <td>0.000000</td>\n",
       "      <td>0.000000</td>\n",
       "      <td>0.000000</td>\n",
       "      <td>2.263500</td>\n",
       "      <td>15.000000</td>\n",
       "      <td>94.000000</td>\n",
       "      <td>0.000000</td>\n",
       "    </tr>\n",
       "    <tr>\n",
       "      <th>75%</th>\n",
       "      <td>0.000000</td>\n",
       "      <td>0.000000</td>\n",
       "      <td>0.430000</td>\n",
       "      <td>0.000000</td>\n",
       "      <td>0.387500</td>\n",
       "      <td>0.000000</td>\n",
       "      <td>0.000000</td>\n",
       "      <td>0.000000</td>\n",
       "      <td>0.000000</td>\n",
       "      <td>0.170000</td>\n",
       "      <td>...</td>\n",
       "      <td>0.000000</td>\n",
       "      <td>0.188000</td>\n",
       "      <td>0.000000</td>\n",
       "      <td>0.317250</td>\n",
       "      <td>0.054000</td>\n",
       "      <td>0.000000</td>\n",
       "      <td>3.714000</td>\n",
       "      <td>43.000000</td>\n",
       "      <td>264.000000</td>\n",
       "      <td>1.000000</td>\n",
       "    </tr>\n",
       "    <tr>\n",
       "      <th>max</th>\n",
       "      <td>4.340000</td>\n",
       "      <td>14.280000</td>\n",
       "      <td>4.540000</td>\n",
       "      <td>42.810000</td>\n",
       "      <td>9.090000</td>\n",
       "      <td>3.570000</td>\n",
       "      <td>7.270000</td>\n",
       "      <td>11.110000</td>\n",
       "      <td>3.230000</td>\n",
       "      <td>18.180000</td>\n",
       "      <td>...</td>\n",
       "      <td>4.385000</td>\n",
       "      <td>9.752000</td>\n",
       "      <td>2.777000</td>\n",
       "      <td>32.478000</td>\n",
       "      <td>6.003000</td>\n",
       "      <td>19.829000</td>\n",
       "      <td>1102.500000</td>\n",
       "      <td>9989.000000</td>\n",
       "      <td>10062.000000</td>\n",
       "      <td>1.000000</td>\n",
       "    </tr>\n",
       "  </tbody>\n",
       "</table>\n",
       "<p>8 rows × 58 columns</p>\n",
       "</div>"
      ],
      "text/plain": [
       "                X1           X2           X3           X4           X5  \\\n",
       "count  3910.000000  3910.000000  3910.000000  3910.000000  3910.000000   \n",
       "mean      0.102990     0.206419     0.284419     0.062074     0.311309   \n",
       "std       0.296322     1.253828     0.504352     1.369361     0.656195   \n",
       "min       0.000000     0.000000     0.000000     0.000000     0.000000   \n",
       "25%       0.000000     0.000000     0.000000     0.000000     0.000000   \n",
       "50%       0.000000     0.000000     0.000000     0.000000     0.000000   \n",
       "75%       0.000000     0.000000     0.430000     0.000000     0.387500   \n",
       "max       4.340000    14.280000     4.540000    42.810000     9.090000   \n",
       "\n",
       "                X6           X7           X8           X9          X10  ...  \\\n",
       "count  3910.000000  3910.000000  3910.000000  3910.000000  3910.000000  ...   \n",
       "mean      0.095974     0.112320     0.106041     0.091146     0.244345  ...   \n",
       "std       0.261455     0.389516     0.398694     0.271417     0.667065  ...   \n",
       "min       0.000000     0.000000     0.000000     0.000000     0.000000  ...   \n",
       "25%       0.000000     0.000000     0.000000     0.000000     0.000000  ...   \n",
       "50%       0.000000     0.000000     0.000000     0.000000     0.000000  ...   \n",
       "75%       0.000000     0.000000     0.000000     0.000000     0.170000  ...   \n",
       "max       3.570000     7.270000    11.110000     3.230000    18.180000  ...   \n",
       "\n",
       "               X49          X50          X51          X52          X53  \\\n",
       "count  3910.000000  3910.000000  3910.000000  3910.000000  3910.000000   \n",
       "mean      0.037493     0.139252     0.015876     0.272971     0.077820   \n",
       "std       0.235054     0.276309     0.083600     0.858634     0.256991   \n",
       "min       0.000000     0.000000     0.000000     0.000000     0.000000   \n",
       "25%       0.000000     0.000000     0.000000     0.000000     0.000000   \n",
       "50%       0.000000     0.066000     0.000000     0.000000     0.000000   \n",
       "75%       0.000000     0.188000     0.000000     0.317250     0.054000   \n",
       "max       4.385000     9.752000     2.777000    32.478000     6.003000   \n",
       "\n",
       "               X54          X55          X56           X57            Y  \n",
       "count  3910.000000  3910.000000  3910.000000   3910.000000  3910.000000  \n",
       "mean      0.043828     5.047150    52.338107    283.059079     0.392327  \n",
       "std       0.452862    31.397035   204.445218    578.339858     0.488331  \n",
       "min       0.000000     1.000000     1.000000      1.000000     0.000000  \n",
       "25%       0.000000     1.580750     6.000000     35.000000     0.000000  \n",
       "50%       0.000000     2.263500    15.000000     94.000000     0.000000  \n",
       "75%       0.000000     3.714000    43.000000    264.000000     1.000000  \n",
       "max      19.829000  1102.500000  9989.000000  10062.000000     1.000000  \n",
       "\n",
       "[8 rows x 58 columns]"
      ]
     },
     "execution_count": 5,
     "metadata": {},
     "output_type": "execute_result"
    }
   ],
   "source": [
    "training_data.describe()"
   ]
  },
  {
   "cell_type": "code",
   "execution_count": 6,
   "id": "7b4f26d3",
   "metadata": {},
   "outputs": [
    {
     "data": {
      "text/plain": [
       "((3910, 58), (691, 57))"
      ]
     },
     "execution_count": 6,
     "metadata": {},
     "output_type": "execute_result"
    }
   ],
   "source": [
    "(training_data.shape,testing_data.shape)"
   ]
  },
  {
   "cell_type": "markdown",
   "id": "76ae16b5",
   "metadata": {},
   "source": [
    "### Checking for missing values"
   ]
  },
  {
   "cell_type": "code",
   "execution_count": 7,
   "id": "5676bc3b",
   "metadata": {},
   "outputs": [
    {
     "data": {
      "text/plain": [
       "X1     0\n",
       "X2     0\n",
       "X3     0\n",
       "X4     0\n",
       "X5     0\n",
       "X6     0\n",
       "X7     0\n",
       "X8     0\n",
       "X9     0\n",
       "X10    0\n",
       "X11    0\n",
       "X12    0\n",
       "X13    0\n",
       "X14    0\n",
       "X15    0\n",
       "X16    0\n",
       "X17    0\n",
       "X18    0\n",
       "X19    0\n",
       "X20    0\n",
       "X21    0\n",
       "X22    0\n",
       "X23    0\n",
       "X24    0\n",
       "X25    0\n",
       "X26    0\n",
       "X27    0\n",
       "X28    0\n",
       "X29    0\n",
       "X30    0\n",
       "X31    0\n",
       "X32    0\n",
       "X33    0\n",
       "X34    0\n",
       "X35    0\n",
       "X36    0\n",
       "X37    0\n",
       "X38    0\n",
       "X39    0\n",
       "X40    0\n",
       "X41    0\n",
       "X42    0\n",
       "X43    0\n",
       "X44    0\n",
       "X45    0\n",
       "X46    0\n",
       "X47    0\n",
       "X48    0\n",
       "X49    0\n",
       "X50    0\n",
       "X51    0\n",
       "X52    0\n",
       "X53    0\n",
       "X54    0\n",
       "X55    0\n",
       "X56    0\n",
       "X57    0\n",
       "Y      0\n",
       "dtype: int64"
      ]
     },
     "execution_count": 7,
     "metadata": {},
     "output_type": "execute_result"
    }
   ],
   "source": [
    "training_data.isnull().sum()"
   ]
  },
  {
   "cell_type": "markdown",
   "id": "ee58f20c",
   "metadata": {},
   "source": [
    "### Observations as of this point\n",
    "1. Training Data appears to be highly skewed\n",
    "2. Training Data has no missing values\n",
    "3. Both the training and testing data have 57 'X+\\d(1:57)' columns with the addtional target column in training data making the total of 58 for its case."
   ]
  },
  {
   "cell_type": "markdown",
   "id": "651324f4",
   "metadata": {},
   "source": [
    "### Plotting distributions of features"
   ]
  },
  {
   "cell_type": "code",
   "execution_count": 8,
   "id": "5b186c52",
   "metadata": {},
   "outputs": [
    {
     "data": {
      "image/png": "[encoded data removed]",
      "text/plain": [
       "<Figure size 1080x1800 with 60 Axes>"
      ]
     },
     "metadata": {
      "needs_background": "light"
     },
     "output_type": "display_data"
    }
   ],
   "source": [
    "fig,ax = plt.subplots(nrows=15,ncols=4,figsize=(15,25),constrained_layout = True)\n",
    "\n",
    "j = 0\n",
    "k = 0\n",
    "\n",
    "for i in range(1,58):\n",
    "    if k>3:\n",
    "        k=0\n",
    "        j += 1    \n",
    "    ax[j][k].margins(0.1,0.1);\n",
    "    ax[j][k].plot(sorted(training_data['X'+str(i)]));\n",
    "    ax[j][k].set_title('X'+str(i));\n",
    "    k += 1"
   ]
  },
  {
   "cell_type": "markdown",
   "id": "efeff74c",
   "metadata": {},
   "source": [
    "### Checking the distribution of Target 'Y' to check for class imbalance"
   ]
  },
  {
   "cell_type": "code",
   "execution_count": 9,
   "id": "b68fc9e8",
   "metadata": {},
   "outputs": [
    {
     "data": {
      "text/plain": [
       "0    0.607673\n",
       "1    0.392327\n",
       "Name: Y, dtype: float64"
      ]
     },
     "execution_count": 9,
     "metadata": {},
     "output_type": "execute_result"
    }
   ],
   "source": [
    "training_data['Y'].value_counts(normalize=True)"
   ]
  },
  {
   "cell_type": "markdown",
   "id": "e9193948",
   "metadata": {},
   "source": [
    "Category 0 => ~60%\n",
    "\n",
    "Category 1 => ~40%"
   ]
  },
  {
   "cell_type": "markdown",
   "id": "c5a547e1",
   "metadata": {},
   "source": [
    "### Observations as of this point\n",
    "\n",
    "1. Data is *highly skewed* confirmed by the features' distributions.\n",
    "2. All features are continuous.\n",
    "3. No Data imbalance found. 3:2 is a decent class imbalance ratio."
   ]
  },
  {
   "cell_type": "markdown",
   "id": "de2b43ca",
   "metadata": {},
   "source": [
    "## Splitting the training data"
   ]
  },
  {
   "cell_type": "code",
   "execution_count": 10,
   "id": "daba6e81",
   "metadata": {},
   "outputs": [],
   "source": [
    "X = training_data.drop(['Y'],axis=1)\n",
    "y = training_data['Y']"
   ]
  },
  {
   "cell_type": "code",
   "execution_count": 11,
   "id": "9c72a495",
   "metadata": {},
   "outputs": [],
   "source": [
    "from sklearn.model_selection import train_test_split"
   ]
  },
  {
   "cell_type": "code",
   "execution_count": 12,
   "id": "39150441",
   "metadata": {},
   "outputs": [],
   "source": [
    "X_train, X_test, y_train, y_test = train_test_split(X, y, train_size=0.8, stratify=y, random_state=42)"
   ]
  },
  {
   "cell_type": "markdown",
   "id": "cbc420ec",
   "metadata": {},
   "source": [
    "Train : validation split was definied to be 4:1 => 80% | 0.8 Training data : 20% | 0.2 validation test data"
   ]
  },
  {
   "cell_type": "markdown",
   "id": "cb1363b9",
   "metadata": {},
   "source": [
    "## Feature Selection\n",
    "\n",
    "Using Random Forest Classifier to get Feature Importance"
   ]
  },
  {
   "cell_type": "code",
   "execution_count": 13,
   "id": "892e471a",
   "metadata": {},
   "outputs": [],
   "source": [
    "from sklearn.ensemble import RandomForestClassifier as RF"
   ]
  },
  {
   "cell_type": "code",
   "execution_count": 14,
   "id": "ac0283c5",
   "metadata": {},
   "outputs": [],
   "source": [
    "FS = RF(100, max_depth=None, n_jobs=-1)\n",
    "FS.fit(X_train,y_train)\n",
    "feature_importance = FS.feature_importances_"
   ]
  },
  {
   "cell_type": "code",
   "execution_count": 15,
   "id": "653720fd",
   "metadata": {},
   "outputs": [
    {
     "data": {
      "image/png": "[encoded data removed]",
      "text/plain": [
       "<Figure size 432x288 with 1 Axes>"
      ]
     },
     "metadata": {
      "needs_background": "light"
     },
     "output_type": "display_data"
    }
   ],
   "source": [
    "feature_number = [i for i in range(1,58)]\n",
    "plt.plot(feature_number,feature_importance)\n",
    "plt.xlabel(\"Features\")\n",
    "plt.ylabel(\"Feature Importance Score\")\n",
    "plt.title(\"Feature Importances\")\n",
    "plt.show()"
   ]
  },
  {
   "cell_type": "markdown",
   "id": "8133024d",
   "metadata": {},
   "source": [
    "#### Finding total features having greater feature importance than average"
   ]
  },
  {
   "cell_type": "code",
   "execution_count": 16,
   "id": "27ecff63",
   "metadata": {},
   "outputs": [
    {
     "name": "stdout",
     "output_type": "stream",
     "text": [
      "Total features having feature importance greater than average are 15\n"
     ]
    }
   ],
   "source": [
    "mean_fi = np.mean(feature_importance)\n",
    "top_fi = len(np.where(feature_importance > mean_fi)[0])\n",
    "print(f'Total features having feature importance greater than average are {top_fi}')"
   ]
  },
  {
   "cell_type": "markdown",
   "id": "6fa4d569",
   "metadata": {},
   "source": [
    "#### Plotting Cumulative Distribution of Feature Importances"
   ]
  },
  {
   "cell_type": "code",
   "execution_count": 17,
   "id": "3776dc51",
   "metadata": {},
   "outputs": [
    {
     "data": {
      "image/png": "[encoded data removed]",
      "text/plain": [
       "<Figure size 432x288 with 1 Axes>"
      ]
     },
     "metadata": {
      "needs_background": "light"
     },
     "output_type": "display_data"
    }
   ],
   "source": [
    "plt.plot(np.cumsum(sorted(feature_importance,reverse=True)))\n",
    "plt.title('CDF of Feature Importance')\n",
    "plt.xlabel('Features')\n",
    "plt.ylabel('Feature Importance');"
   ]
  },
  {
   "cell_type": "markdown",
   "id": "52707339",
   "metadata": {},
   "source": [
    "From the CDF plot, we tend to infer that 30 features importance add upto very near to one.\n",
    "\n",
    "#### Ranking the features with their respect to feature importances"
   ]
  },
  {
   "cell_type": "code",
   "execution_count": 18,
   "id": "12d009fb",
   "metadata": {},
   "outputs": [],
   "source": [
    "fi = sorted(zip(X.columns,feature_importance),key=lambda x: x[1], reverse=True)"
   ]
  },
  {
   "cell_type": "markdown",
   "id": "a36a2413",
   "metadata": {},
   "source": [
    "#### Extracting Top 30 features"
   ]
  },
  {
   "cell_type": "code",
   "execution_count": 19,
   "id": "77e6a8c9",
   "metadata": {},
   "outputs": [
    {
     "data": {
      "text/plain": [
       "[('X53', 0.10999638924145275),\n",
       " ('X52', 0.10243301478398875),\n",
       " ('X7', 0.07503699821288962),\n",
       " ('X16', 0.06717226746018148),\n",
       " ('X56', 0.06054564965284404),\n",
       " ('X21', 0.059293374549402915),\n",
       " ('X55', 0.05764758317109383),\n",
       " ('X25', 0.046060339659231266),\n",
       " ('X57', 0.042375210471657175),\n",
       " ('X5', 0.03950460206091365),\n",
       " ('X24', 0.03500621476967928),\n",
       " ('X19', 0.029754049967086086),\n",
       " ('X26', 0.02145381906530773),\n",
       " ('X23', 0.02113906437476352),\n",
       " ('X27', 0.020817553980933465),\n",
       " ('X46', 0.014931356720304895),\n",
       " ('X50', 0.01396100212272561),\n",
       " ('X37', 0.013289714280391947),\n",
       " ('X8', 0.013267046625854567),\n",
       " ('X12', 0.012202335614855415),\n",
       " ('X3', 0.011752653939229533),\n",
       " ('X11', 0.010826043532448782),\n",
       " ('X45', 0.009222469165582338),\n",
       " ('X17', 0.009182511677944446),\n",
       " ('X18', 0.008850212882305863),\n",
       " ('X6', 0.007378503801136575),\n",
       " ('X10', 0.007362792471542512),\n",
       " ('X2', 0.006924204091808187),\n",
       " ('X28', 0.005853752883648209),\n",
       " ('X9', 0.005811198258731475)]"
      ]
     },
     "execution_count": 19,
     "metadata": {},
     "output_type": "execute_result"
    }
   ],
   "source": [
    "top_features = [x[0] for x in fi[:30]]\n",
    "fi[:30]"
   ]
  },
  {
   "cell_type": "markdown",
   "id": "3bcbe1f7",
   "metadata": {},
   "source": [
    "### Selecting the top features from data"
   ]
  },
  {
   "cell_type": "code",
   "execution_count": 20,
   "id": "664daffa",
   "metadata": {},
   "outputs": [],
   "source": [
    "X_train_top_FI = X_train[top_features]\n",
    "X_test_top_FI = X_test[top_features]"
   ]
  },
  {
   "cell_type": "code",
   "execution_count": 21,
   "id": "1c77d701",
   "metadata": {},
   "outputs": [
    {
     "data": {
      "text/plain": [
       "((3128, 30), (782, 30))"
      ]
     },
     "execution_count": 21,
     "metadata": {},
     "output_type": "execute_result"
    }
   ],
   "source": [
    "(X_train_top_FI.shape, X_test_top_FI.shape)"
   ]
  },
  {
   "cell_type": "markdown",
   "id": "d068ece9",
   "metadata": {},
   "source": [
    "## Scaling The Data - standardization and normalization"
   ]
  },
  {
   "cell_type": "code",
   "execution_count": 22,
   "id": "a09d00bb",
   "metadata": {},
   "outputs": [],
   "source": [
    "from sklearn.preprocessing import StandardScaler"
   ]
  },
  {
   "cell_type": "code",
   "execution_count": 23,
   "id": "aa6475f0",
   "metadata": {},
   "outputs": [
    {
     "data": {
      "text/plain": [
       "StandardScaler()"
      ]
     },
     "execution_count": 23,
     "metadata": {},
     "output_type": "execute_result"
    }
   ],
   "source": [
    "scaler = StandardScaler()\n",
    "scaler.fit(X_train_top_FI)"
   ]
  },
  {
   "cell_type": "code",
   "execution_count": 24,
   "id": "e1678b9f",
   "metadata": {},
   "outputs": [],
   "source": [
    "X_train_top_FI = pd.DataFrame(scaler.transform(X_train_top_FI),columns=X_train_top_FI.columns)\n",
    "X_test_top_FI = pd.DataFrame(scaler.transform(X_test_top_FI),columns=X_test_top_FI.columns)"
   ]
  },
  {
   "cell_type": "markdown",
   "id": "d2a44532",
   "metadata": {},
   "source": [
    "## Model Training"
   ]
  },
  {
   "cell_type": "markdown",
   "id": "428e7ad8",
   "metadata": {},
   "source": [
    "Model Chosen is ***eXtreme Gradient Boosting (XGBoost)*** which is a decision-tree-based ensemble Machine Learning algorithm that uses a gradient boosting framework. No particular reason to choose this other than the fact that the data provided is best suited for Tree based ensemble classifiers."
   ]
  },
  {
   "cell_type": "code",
   "execution_count": 25,
   "id": "94b2392b",
   "metadata": {},
   "outputs": [
    {
     "name": "stderr",
     "output_type": "stream",
     "text": [
      "/Users/animeshs/opt/anaconda3/lib/python3.9/site-packages/xgboost/compat.py:36: FutureWarning: pandas.Int64Index is deprecated and will be removed from pandas in a future version. Use pandas.Index with the appropriate dtype instead.\n",
      "  from pandas import MultiIndex, Int64Index\n"
     ]
    }
   ],
   "source": [
    "from xgboost import XGBClassifier as XGB\n",
    "from sklearn.metrics import roc_auc_score,classification_report,confusion_matrix,log_loss"
   ]
  },
  {
   "cell_type": "markdown",
   "id": "fb2ed4e1",
   "metadata": {},
   "source": [
    "### Metrics to considered\n",
    "\n",
    "* Since binary values are in our class labels, therefore *Binary Cross Entropy* is the way to go here.\n",
    "* Also, *AUC score* can be used here.\n",
    "* Since class is almost balanced, therefore no need of metrics like F1 score here."
   ]
  },
  {
   "cell_type": "code",
   "execution_count": null,
   "id": "dc63a26d",
   "metadata": {},
   "outputs": [],
   "source": [
    "classifier = XGB(n_estimators=500,\n",
    "                    max_depth=5,\n",
    "                    learning_rate=0.15,\n",
    "                    colsample_bytree=1,\n",
    "                    subsample=1,\n",
    "                    reg_alpha = 0.3,\n",
    "                    gamma=10,\n",
    "                    n_jobs=-1,\n",
    "                    eval_metric='logloss',\n",
    "                    use_label_encoder=False)\n",
    "\n",
    "classifier.fit(X_train_top_FI, y_train)"
   ]
  },
  {
   "cell_type": "code",
   "execution_count": null,
   "id": "c3b64727",
   "metadata": {},
   "outputs": [],
   "source": [
    "y_train_pred = classifier.predict(X_train_top_FI)\n",
    "y_train_prob = classifier.predict_proba(X_train_top_FI)[:,1]\n",
    "y_test_pred = classifier.predict(X_test_top_FI)\n",
    "y_test_prob = classifier.predict_proba(X_test_top_FI)[:,1]"
   ]
  },
  {
   "cell_type": "markdown",
   "id": "9903d1c6",
   "metadata": {},
   "source": [
    "##### Binary Cross Entropy (LogLoss) Scores"
   ]
  },
  {
   "cell_type": "code",
   "execution_count": null,
   "id": "a6674047",
   "metadata": {},
   "outputs": [],
   "source": [
    "print(f'Train Logloss for the model -> {log_loss(y_train,y_train_prob)}')\n",
    "print(f'Test Logloss for the model -> {log_loss(y_test,y_test_prob)}')"
   ]
  },
  {
   "cell_type": "markdown",
   "id": "95f4d786",
   "metadata": {},
   "source": [
    "##### Area Under the Receiver Operating Characteristic Curve (ROC-AUC) Scores"
   ]
  },
  {
   "cell_type": "code",
   "execution_count": null,
   "id": "e66f7475",
   "metadata": {},
   "outputs": [],
   "source": [
    "print(f'Train AUC Score for the model -> {roc_auc_score(y_train, y_train_prob)}')\n",
    "print(f'Test AUC Score for the model -> {roc_auc_score(y_test, y_test_prob)}')"
   ]
  },
  {
   "cell_type": "markdown",
   "id": "8c774be8",
   "metadata": {},
   "source": [
    "## Predicting on Test Data"
   ]
  },
  {
   "cell_type": "markdown",
   "id": "62810e59",
   "metadata": {},
   "source": [
    "Viewing the testing data"
   ]
  },
  {
   "cell_type": "code",
   "execution_count": null,
   "id": "ac42ae5f",
   "metadata": {},
   "outputs": [],
   "source": [
    "testing_data.head()"
   ]
  },
  {
   "cell_type": "markdown",
   "id": "57b86857",
   "metadata": {},
   "source": [
    "### Processing The test data for prediciton as per the same process followed for Training Data"
   ]
  },
  {
   "cell_type": "markdown",
   "id": "4fbe408f",
   "metadata": {},
   "source": [
    "##### Selecting Top Features for the test data"
   ]
  },
  {
   "cell_type": "code",
   "execution_count": null,
   "id": "ffc80101",
   "metadata": {},
   "outputs": [],
   "source": [
    "test_data_top_FI = testing_data[top_features]"
   ]
  },
  {
   "cell_type": "markdown",
   "id": "25de62de",
   "metadata": {},
   "source": [
    "##### Using StandardScaler to normalize the test data"
   ]
  },
  {
   "cell_type": "code",
   "execution_count": null,
   "id": "6ffbe2de",
   "metadata": {},
   "outputs": [],
   "source": [
    "test_data_top_FI = pd.DataFrame(scaler.transform(test_data_top_FI),columns=test_data_top_FI.columns)"
   ]
  },
  {
   "cell_type": "code",
   "execution_count": null,
   "id": "0a1114e6",
   "metadata": {},
   "outputs": [],
   "source": [
    "y_test_pred = classifier.predict(test_data_top_FI)\n",
    "\n",
    "y_test_pred"
   ]
  },
  {
   "cell_type": "code",
   "execution_count": null,
   "id": "1ce58644",
   "metadata": {},
   "outputs": [],
   "source": [
    "y_test_prob = classifier.predict_proba(test_data_top_FI)[:,1]\n",
    "\n",
    "y_test_prob"
   ]
  },
  {
   "cell_type": "markdown",
   "id": "0a25abe9",
   "metadata": {},
   "source": [
    "## Saving Model for future usage"
   ]
  },
  {
   "cell_type": "code",
   "execution_count": null,
   "id": "a403da1e",
   "metadata": {},
   "outputs": [],
   "source": [
    "import pickle"
   ]
  },
  {
   "cell_type": "code",
   "execution_count": null,
   "id": "9ccf4dfc",
   "metadata": {},
   "outputs": [],
   "source": [
    "pickle.dump(classifier, open('./XGBFTW.sav', 'wb'))"
   ]
  },
  {
   "cell_type": "markdown",
   "id": "730e3149",
   "metadata": {},
   "source": [
    "## Exporting y_test predicted scores"
   ]
  },
  {
   "cell_type": "code",
   "execution_count": null,
   "id": "e9ea885d",
   "metadata": {},
   "outputs": [],
   "source": [
    "pd.DataFrame(y_test_pred).to_csv('./Testing_predictions.csv')"
   ]
  },
  {
   "cell_type": "markdown",
   "id": "09c55fc2",
   "metadata": {},
   "source": [
    "## Generating requirements.txt "
   ]
  },
  {
   "cell_type": "code",
   "execution_count": null,
   "id": "98f41d04",
   "metadata": {},
   "outputs": [],
   "source": [
    "!pip freeze > requirements.txt"
   ]
  },
  {
   "cell_type": "markdown",
   "id": "90d7a1c2",
   "metadata": {},
   "source": [
    "**Note that all the requirements are not needed, it is as per the anaconda installation on my system, also this is developed on a M1 series Apple Mac which is ARM64 so functioning wont differ much, rather the support architecture clash may occur. For that reason a seperate essential_only_req.txt is present for import specific features**\n",
    "\n",
    "**Recommended to go for the complete requirements.txt if checking on an Apple M series Mac**"
   ]
  }
 ],
 "metadata": {
  "kernelspec": {
   "display_name": "Python 3 (ipykernel)",
   "language": "python",
   "name": "python3"
  },
  "language_info": {
   "codemirror_mode": {
    "name": "ipython",
    "version": 3
   },
   "file_extension": ".py",
   "mimetype": "text/x-python",
   "name": "python",
   "nbconvert_exporter": "python",
   "pygments_lexer": "ipython3",
   "version": "3.9.12"
  }
 },
 "nbformat": 4,
 "nbformat_minor": 5
}
